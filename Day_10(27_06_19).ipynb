{
  "nbformat": 4,
  "nbformat_minor": 0,
  "metadata": {
    "colab": {
      "name": "Day-10(27-06-19)",
      "version": "0.3.2",
      "provenance": [],
      "include_colab_link": true
    },
    "kernelspec": {
      "name": "python3",
      "display_name": "Python 3"
    }
  },
  "cells": [
    {
      "cell_type": "markdown",
      "metadata": {
        "id": "view-in-github",
        "colab_type": "text"
      },
      "source": [
        "<a href=\"https://colab.research.google.com/github/bhavanachintha/Python-1-/blob/master/Day_10(27_06_19).ipynb\" target=\"_parent\"><img src=\"https://colab.research.google.com/assets/colab-badge.svg\" alt=\"Open In Colab\"/></a>"
      ]
    },
    {
      "cell_type": "markdown",
      "metadata": {
        "id": "xSuuMcAQDDJ3",
        "colab_type": "text"
      },
      "source": [
        "###File Handling in python\n",
        "File :- Document containing information residing on the parameter storage types-----      \n",
        "Doc,Pdf,Text,Csv Files and etc.    \n",
        "\n",
        "**File I/O: input and  output    \n",
        "                          keyboard input    \n",
        "                          screen as output   \n",
        "                          \n",
        "**Read/Write       \n",
        "     ---   open()- open the file    \n",
        "     ---    close()--close the file   \n",
        "                          \n",
        "         open(filename,\"Mode of the file\")   \n",
        "             \n",
        "  \"r\"---Its opens the file for reading    \n",
        "  \"w\"-- The mode open the file writing     \n",
        "           **If the file name is not present,it create a new file and write some data into it   \n",
        "   data will be overwritten      \n",
        "     \"a\"---append mode also creates the file if the file mode not exists    \n",
        "     "
      ]
    },
    {
      "cell_type": "code",
      "metadata": {
        "id": "G5DEIspRDLGy",
        "colab_type": "code",
        "colab": {
          "base_uri": "https://localhost:8080/",
          "height": 34
        },
        "outputId": "8439cb29-abf2-4c87-cb51-957fc8094979"
      },
      "source": [
        "# Function to create a file and write some data\n",
        "def createfile(filename):\n",
        "    f=open(filename,\"w\")\n",
        "    for i in range(10):\n",
        "        f.write(\"This is %d lines\\n\" % i)\n",
        "    print(\"file is created successfully and data is written\")\n",
        "    f.close()\n",
        "    return\n",
        "createfile(\"file.txt\")"
      ],
      "execution_count": 49,
      "outputs": [
        {
          "output_type": "stream",
          "text": [
            "file is created successfully and data is written\n"
          ],
          "name": "stdout"
        }
      ]
    },
    {
      "cell_type": "code",
      "metadata": {
        "id": "NZg9bg6CHTpe",
        "colab_type": "code",
        "colab": {
          "base_uri": "https://localhost:8080/",
          "height": 202
        },
        "outputId": "676569c1-dc86-4328-ed78-9faa91f5a819"
      },
      "source": [
        "#Function for reading the file data\n",
        "def readfile(filename):\n",
        "    f=open(filename,\"r\")\n",
        "    if f.mode == \"r\":\n",
        "        x=f.read()\n",
        "        print(x)\n",
        "    f.close()\n",
        "    return\n",
        "readfile(\"file.txt\")"
      ],
      "execution_count": 50,
      "outputs": [
        {
          "output_type": "stream",
          "text": [
            "This is 0 lines\n",
            "This is 1 lines\n",
            "This is 2 lines\n",
            "This is 3 lines\n",
            "This is 4 lines\n",
            "This is 5 lines\n",
            "This is 6 lines\n",
            "This is 7 lines\n",
            "This is 8 lines\n",
            "This is 9 lines\n",
            "\n"
          ],
          "name": "stdout"
        }
      ]
    },
    {
      "cell_type": "code",
      "metadata": {
        "id": "C2v27WWqJ0Re",
        "colab_type": "code",
        "colab": {
          "base_uri": "https://localhost:8080/",
          "height": 34
        },
        "outputId": "01545fd0-69a3-46be-9d4b-54dcfa6f4394"
      },
      "source": [
        "def createfile(filename):\n",
        "    f=open(filename,\"w\")\n",
        "    for i in range(10):\n",
        "        f.write(\"Test %d line\\n\" % i)\n",
        "    print(\"file is created successfully and data is written\")\n",
        "    f.close()\n",
        "    return\n",
        "createfile(\"file.txt\")"
      ],
      "execution_count": 51,
      "outputs": [
        {
          "output_type": "stream",
          "text": [
            "file is created successfully and data is written\n"
          ],
          "name": "stdout"
        }
      ]
    },
    {
      "cell_type": "code",
      "metadata": {
        "id": "k2Muu42DScB1",
        "colab_type": "code",
        "colab": {
          "base_uri": "https://localhost:8080/",
          "height": 34
        },
        "outputId": "f8bd0c0a-a553-4caf-c86f-1b716635c754"
      },
      "source": [
        "ls"
      ],
      "execution_count": 52,
      "outputs": [
        {
          "output_type": "stream",
          "text": [
            "file1.txt  file.txt  \u001b[0m\u001b[01;34msample_data\u001b[0m/\n"
          ],
          "name": "stdout"
        }
      ]
    },
    {
      "cell_type": "code",
      "metadata": {
        "id": "oxKu8382Sl7m",
        "colab_type": "code",
        "colab": {
          "base_uri": "https://localhost:8080/",
          "height": 218
        },
        "outputId": "aea54834-c6b5-40b6-84e5-ce386e75d5f8"
      },
      "source": [
        "cat file.txt -- second cell"
      ],
      "execution_count": 53,
      "outputs": [
        {
          "output_type": "stream",
          "text": [
            "Test 0 line\n",
            "Test 1 line\n",
            "Test 2 line\n",
            "Test 3 line\n",
            "Test 4 line\n",
            "Test 5 line\n",
            "Test 6 line\n",
            "Test 7 line\n",
            "Test 8 line\n",
            "Test 9 line\n",
            "cat: second: No such file or directory\n",
            "cat: cell: No such file or directory\n"
          ],
          "name": "stdout"
        }
      ]
    },
    {
      "cell_type": "code",
      "metadata": {
        "id": "FMMp_5ZvX969",
        "colab_type": "code",
        "colab": {}
      },
      "source": [
        "#Data to append   \n",
        "#Functions to append the data to existing file\n",
        "def appenddata(filename):\n",
        "    f=open(filename,\"a\")\n",
        "    f.write(\"new line 1\\n\")\n",
        "    f.write(\"new line 2\\n\")\n",
        "    return\n",
        "appenddata(\"file.txt\")"
      ],
      "execution_count": 0,
      "outputs": []
    },
    {
      "cell_type": "code",
      "metadata": {
        "id": "VkelKDtZZXEL",
        "colab_type": "code",
        "colab": {
          "base_uri": "https://localhost:8080/",
          "height": 34
        },
        "outputId": "72306279-b1fe-46b0-f5d4-339dd7ac1304"
      },
      "source": [
        "#word count using file i/o python\n",
        "def datanalysiswordcount(filename,word):\n",
        "    f=open(filename,\"r\")\n",
        "    if f.mode ==\"r\":\n",
        "        x=f.read()\n",
        "        lst=x.split()\n",
        "    cnt=lst.count(word)\n",
        "    return cnt\n",
        "print(datanalysiswordcount(\"file.txt\",\"rest\"))"
      ],
      "execution_count": 55,
      "outputs": [
        {
          "output_type": "stream",
          "text": [
            "0\n"
          ],
          "name": "stdout"
        }
      ]
    },
    {
      "cell_type": "code",
      "metadata": {
        "id": "vgB0xTWHZXDN",
        "colab_type": "code",
        "colab": {
          "base_uri": "https://localhost:8080/",
          "height": 34
        },
        "outputId": "73eb7bf4-1b1b-4070-ace4-d95d9e29d9ca"
      },
      "source": [
        "def datanalysiswordcount(filename,word):\n",
        "    f=open(filename,\"r\")\n",
        "    if f.mode ==\"r\":\n",
        "        x=f.read()\n",
        "        lst=x.split()\n",
        "    cnt=lst.count(word)\n",
        "    return cnt\n",
        "print(datanalysiswordcount(\"file.txt\",\"line\"))"
      ],
      "execution_count": 56,
      "outputs": [
        {
          "output_type": "stream",
          "text": [
            "12\n"
          ],
          "name": "stdout"
        }
      ]
    },
    {
      "cell_type": "code",
      "metadata": {
        "id": "4INkV-I0g4VA",
        "colab_type": "code",
        "colab": {
          "base_uri": "https://localhost:8080/",
          "height": 34
        },
        "outputId": "44e66c62-9c3d-49aa-9594-6bf121247459"
      },
      "source": [
        "# Function to count of characters in the file\n",
        "def countchar(filename):\n",
        "    f=open(filename,\"r\")\n",
        "    if f.mode ==\"r\":\n",
        "        x=f.read()\n",
        "        lst=list(x)\n",
        "    return len(lst)\n",
        "print(countchar(\"file.txt\"))"
      ],
      "execution_count": 57,
      "outputs": [
        {
          "output_type": "stream",
          "text": [
            "142\n"
          ],
          "name": "stdout"
        }
      ]
    },
    {
      "cell_type": "code",
      "metadata": {
        "id": "Oz_QpCUOixrm",
        "colab_type": "code",
        "colab": {
          "base_uri": "https://localhost:8080/",
          "height": 34
        },
        "outputId": "ae439898-9f31-4b3c-eef2-de79c132626b"
      },
      "source": [
        "# Function to count the upper case character from the given file\n",
        "def countCharacter(filename):\n",
        "    c=0\n",
        "    f=open(filename,\"r\")\n",
        "    if f.mode=='r':\n",
        "        x=f.read()\n",
        "        lst=list(x)\n",
        "        for i in lst:\n",
        "            if(i.isupper()):\n",
        "                c=c+1;\n",
        "    return c\n",
        "print(countCharacter(\"file.txt\"))"
      ],
      "execution_count": 58,
      "outputs": [
        {
          "output_type": "stream",
          "text": [
            "10\n"
          ],
          "name": "stdout"
        }
      ]
    },
    {
      "cell_type": "code",
      "metadata": {
        "id": "GUrdY_uLn4KV",
        "colab_type": "code",
        "colab": {
          "base_uri": "https://localhost:8080/",
          "height": 67
        },
        "outputId": "db6f9b0e-3458-48ce-a06c-31c15ae6ca73"
      },
      "source": [
        "#Function to count of lines in given file\n",
        "fname = input(\"Enter file name: \")\n",
        "num_lines = 0\n",
        "with open(fname, 'r') as f:\n",
        "    for line in f:\n",
        "        num_lines += 1\n",
        "print(\"Number of lines:\")\n",
        "print(num_lines)"
      ],
      "execution_count": 59,
      "outputs": [
        {
          "output_type": "stream",
          "text": [
            "Enter file name: file.txt\n",
            "Number of lines:\n",
            "12\n"
          ],
          "name": "stdout"
        }
      ]
    },
    {
      "cell_type": "code",
      "metadata": {
        "id": "ei_VD9TMs2Tm",
        "colab_type": "code",
        "colab": {
          "base_uri": "https://localhost:8080/",
          "height": 34
        },
        "outputId": "a5933fbb-f6dc-4122-cfb9-8e0e7c054ace"
      },
      "source": [
        "#Function to count of lines in given file\n",
        "def countlines(filename):\n",
        "        f=open(filename,\"r\")\n",
        "        if f.mode=='r':\n",
        "            x=f.read()\n",
        "            lst=x.split(\"\\n\")\n",
        "        return len(lst)\n",
        "countlines(\"file.txt\")"
      ],
      "execution_count": 61,
      "outputs": [
        {
          "output_type": "execute_result",
          "data": {
            "text/plain": [
              "13"
            ]
          },
          "metadata": {
            "tags": []
          },
          "execution_count": 61
        }
      ]
    },
    {
      "cell_type": "markdown",
      "metadata": {
        "id": "W1hXZGheta3F",
        "colab_type": "text"
      },
      "source": [
        "###Regular Expressions\n",
        "* Pattern Matching\n",
        "* Symbolic Notattion of a pattern  \n",
        "\n",
        "    * Pattern(RE) represents the set of the values that a given      \n",
        "      *[0-9]---any digit     \n",
        "      *[a-z]----any lower case character    \n",
        "      *[A-Z]----any upper case character    \n",
        "      *[2468]---all the single digit multiples of 2     \n",
        "      *^[0-9](1) $---->  only single digit number   \n",
        "      \n",
        "           *cap symbol is used for regular expression    \n",
        "           *Dollar symbol is used to end of regular expressions    \n",
        "                                         \n",
        "         \n",
        " **^[0-9]{3}$----regular expression accepts only three digit number **\n",
        " \n",
        " \n",
        " \n",
        " **^[a-z]{5}$----- it accepts only the 5 chracter string that to lower case characters**\n",
        " \n",
        " \n",
        " **^[a-zA-Z]{6}$----->a string can be upper/lower case chars and len of 6**\n",
        " \n",
        " \n",
        " **^[a-zA-Z]{6-15}$ --->  a string min of 6 characters  and max of 6 characters and max of 15 characters(upper and lower case digits)**\n",
        " \n",
        " \n",
        " **^[a-zA-z0-9]{6-15}$----> upper ,lower and digits         \n",
        " \n",
        " ** ^[6-9][0-9]{9}$--->RE for indian mobile number     \n",
        " \n",
        " ** ^[0][6-9][0-9]{9}$----->RE indian mobile number     \n",
        " \n",
        " \n",
        " ** [+][9][1][6-9][0-9]{9}$----->RE indian mobile number     \n",
        " \n",
        " \n",
        " Email id validation:Username@DomainName.extension       \n",
        "# **username:      **       \n",
        "                   *Lenght will be : [6-15]         \n",
        "                   *No spl chars apart from _       \n",
        "                  *Should not begin and end with _       \n",
        "                  * Character set : All digits and lower case alphabets _        \n",
        "        \n",
        "        \n",
        "#**Domain Name:   **        \n",
        "                *Length of domain :[3,18]       \n",
        "              *No spl characters         \n",
        "               *Character set :all digits and lower case alphabets     \n",
        "               \n",
        "               \n",
        "               \n",
        "               \n",
        "\n",
        "# **Extension:               **            \n",
        "           *Length of extension:[2,4]                       \n",
        "           *No spl characters                      \n",
        "           *Character set:Lower case characters                         \n",
        " \n",
        " \n",
        "#**Regular Expression EmailID:    \n",
        "        ^[0-9a-z][0-9a-z_.]{5,14}[0-9a-z][@][a-z0-9]{3,18}[.][a-z]{2,4}$  \n",
        "      \n",
        "      \n",
        "    **^[a]....[z]$-->Any string of length 5 start char is 'a' and end char  will be 'z'\n",
        "   **^[a].*[z]$-->Any string of any length that starts from 'a' and ends at 'z'"
      ]
    },
    {
      "cell_type": "code",
      "metadata": {
        "id": "ZUn-r30nzj52",
        "colab_type": "code",
        "colab": {}
      },
      "source": [
        "# Regular expressions for indian mobile number\n",
        "# Validation for email id username@DomainName.extension\n",
        "# 9876543210 --- First digit\n",
        "# +919876543210---first + sign,second digit 9,third digit 1,# fourth digit [6-9]  rest of 9 digit [0-9]\n"
      ],
      "execution_count": 0,
      "outputs": []
    },
    {
      "cell_type": "code",
      "metadata": {
        "id": "U8o8KaNrK8ZM",
        "colab_type": "code",
        "colab": {
          "base_uri": "https://localhost:8080/",
          "height": 50
        },
        "outputId": "5301ec0b-5712-4204-c6f1-6dad492c22e5"
      },
      "source": [
        "import re\n",
        "def phoneNumberValidate(phone):\n",
        "    pattern='^[6-9][0-9]{9}$'\n",
        "    phone=str(phone)\n",
        "    if re.match(pattern,phone):\n",
        "        return True\n",
        "    return False\n",
        "print(phoneNumberValidate(9966338855))\n",
        "print(phoneNumberValidate(99668855))"
      ],
      "execution_count": 62,
      "outputs": [
        {
          "output_type": "stream",
          "text": [
            "True\n",
            "False\n"
          ],
          "name": "stdout"
        }
      ]
    },
    {
      "cell_type": "code",
      "metadata": {
        "id": "qKPokgUnK8XW",
        "colab_type": "code",
        "colab": {
          "base_uri": "https://localhost:8080/",
          "height": 67
        },
        "outputId": "e1c59226-25a5-468a-d038-094ce0722975"
      },
      "source": [
        "import re\n",
        "def phoneNumberValidate(phone):\n",
        "    pattern='^[6-9][0-9]{9}$|^[0][6-9][0-9]{9}$|[+][9][1][6-9][0-9]{9}$'\n",
        "    phone=str(phone)\n",
        "    if re.match(pattern,phone):\n",
        "        return True\n",
        "    return False\n",
        "print(phoneNumberValidate(9966338855))\n",
        "print(phoneNumberValidate(99668855))\n",
        "print(phoneNumberValidate(+919988774455))"
      ],
      "execution_count": 63,
      "outputs": [
        {
          "output_type": "stream",
          "text": [
            "True\n",
            "False\n",
            "False\n"
          ],
          "name": "stdout"
        }
      ]
    },
    {
      "cell_type": "code",
      "metadata": {
        "id": "E1EpEHCfMrvK",
        "colab_type": "code",
        "colab": {
          "base_uri": "https://localhost:8080/",
          "height": 67
        },
        "outputId": "293aae10-902c-44c8-9633-9e1d1d69601b"
      },
      "source": [
        "import re\n",
        "def phoneNumberValidate(phone):\n",
        "    pattern='^[6-9][0-9]{9}$|^[0][6-9][0-9]{9}$|[+][9][1][6-9][0-9]{9}$'\n",
        "    phone=str(phone)\n",
        "    if re.match(pattern,phone):\n",
        "        return True\n",
        "    return False\n",
        "print(phoneNumberValidate(\"9899668855\"))\n",
        "print(phoneNumberValidate(\"09899668855\"))\n",
        "print(phoneNumberValidate(\"+919899668855\"))"
      ],
      "execution_count": 69,
      "outputs": [
        {
          "output_type": "stream",
          "text": [
            "True\n",
            "True\n",
            "True\n"
          ],
          "name": "stdout"
        }
      ]
    },
    {
      "cell_type": "code",
      "metadata": {
        "id": "YiWiehNfOkEz",
        "colab_type": "code",
        "colab": {}
      },
      "source": [
        "# RE --- Validation of roll number\n",
        "### 152U1A0501"
      ],
      "execution_count": 0,
      "outputs": []
    },
    {
      "cell_type": "code",
      "metadata": {
        "id": "cCnEipb1Pe7y",
        "colab_type": "code",
        "colab": {
          "base_uri": "https://localhost:8080/",
          "height": 50
        },
        "outputId": "b5d27810-bc01-4969-c631-60c751b8ccb1"
      },
      "source": [
        "import re\n",
        "def validaterollnumber(number):\n",
        "    number=str(number)\n",
        "    pattern=\"^[1][5][2][U][1][A][0][1-9][0-6][0-9]$\";\n",
        "    if re.match(pattern,number):\n",
        "        return True\n",
        "    return False\n",
        "print(validaterollnumber(\"152U1A0555\"))\n",
        "print(validaterollnumber(\"152U1A0485\"))"
      ],
      "execution_count": 73,
      "outputs": [
        {
          "output_type": "stream",
          "text": [
            "True\n",
            "False\n"
          ],
          "name": "stdout"
        }
      ]
    },
    {
      "cell_type": "code",
      "metadata": {
        "id": "5JJzL3HuQz2U",
        "colab_type": "code",
        "colab": {
          "base_uri": "https://localhost:8080/",
          "height": 50
        },
        "outputId": "97e3e3d5-85a8-4049-8006-59fa8202c412"
      },
      "source": [
        "#validation for emailid Username@DomainName.extension\n",
        "import re\n",
        "def validateemailid(email):\n",
        "    pattern=\"^[0-9a-z][0-9a-z_.]{4,13}[0-9a-z][@][a-z0-9]{3,18}[.][a-z]{2,4}$\"\n",
        "    if re.match(pattern,email):\n",
        "        return True\n",
        "    return False\n",
        "print(validateemailid(\"anil.1889@gmail.com\"))\n",
        "print(validateemailid(\"$anil.1889@gmail.com\"))"
      ],
      "execution_count": 80,
      "outputs": [
        {
          "output_type": "stream",
          "text": [
            "True\n",
            "False\n"
          ],
          "name": "stdout"
        }
      ]
    },
    {
      "cell_type": "code",
      "metadata": {
        "id": "Py4dNUHCXDsn",
        "colab_type": "code",
        "colab": {}
      },
      "source": [
        "# Regular Expressions --- Password\n",
        "# Parameters : [6-15]\n",
        "# Accept Lower case ,upper case ,spl symbols(@,$,#,!)"
      ],
      "execution_count": 0,
      "outputs": []
    },
    {
      "cell_type": "code",
      "metadata": {
        "id": "PikOoku7XDq6",
        "colab_type": "code",
        "colab": {
          "base_uri": "https://localhost:8080/",
          "height": 50
        },
        "outputId": "502713c4-4315-488f-d93f-ea3448804ca6"
      },
      "source": [
        "#expression for password\n",
        "#'^[6-15][@][#][!]'\n",
        "import re\n",
        "def validatepass(password):\n",
        "    pattern='^[A-Za-z0-9@#!]{6-15}$'\n",
        "    if re.match(pattern,password):\n",
        "        return True\n",
        "    return False \n",
        "print(validatepass('s123@#!'))\n",
        "print(validatepass('sahi1233AS123@'))"
      ],
      "execution_count": 81,
      "outputs": [
        {
          "output_type": "stream",
          "text": [
            "False\n",
            "False\n"
          ],
          "name": "stdout"
        }
      ]
    },
    {
      "cell_type": "markdown",
      "metadata": {
        "id": "FzUh1Nshmlu3",
        "colab_type": "text"
      },
      "source": [
        "# Assignment\n",
        "1.File on the virtual machine or local machine            \n",
        "2.Need to write the data to the time              \n",
        "3.Need to return the count of lower case characters              \n",
        "4.Need to return the count of digits              \n",
        "5.Need to return the count of spl characers              \n",
        "6.Need to create a file which these parameters name,EmailID,         \n",
        "----Mobile number   \n",
        "-----Validate the EmailID   \n",
        "-----Validate the Mobile Number"
      ]
    },
    {
      "cell_type": "code",
      "metadata": {
        "id": "sQ1JwV2ymkAM",
        "colab_type": "code",
        "colab": {
          "base_uri": "https://localhost:8080/",
          "height": 34
        },
        "outputId": "8935ce78-3fe6-4ca4-8bdb-6d9115353019"
      },
      "source": [
        "#File on the virtual machine or local machine\n",
        "\n",
        "# Function to create a file and write some data\n",
        "def createfile(filename):\n",
        "    f=open(filename,\"w\")\n",
        "    for i in range(5):\n",
        "        f.write(\"This is %d lines\\n\" % i)\n",
        "    print(\"file is created successfully and data is written\")\n",
        "    f.close()\n",
        "    return\n",
        "createfile(\"file2.txt\")"
      ],
      "execution_count": 88,
      "outputs": [
        {
          "output_type": "stream",
          "text": [
            "file is created successfully and data is written\n"
          ],
          "name": "stdout"
        }
      ]
    },
    {
      "cell_type": "code",
      "metadata": {
        "id": "leiTLh_Wmj-V",
        "colab_type": "code",
        "colab": {
          "base_uri": "https://localhost:8080/",
          "height": 34
        },
        "outputId": "94defffc-d1a5-49fd-d002-aa87fa4e75a4"
      },
      "source": [
        "# Function to count the upper case character from the given file\n",
        "def countCharacter(filename):\n",
        "    c=0\n",
        "    f=open(filename,\"r\")\n",
        "    if f.mode=='r':\n",
        "        x=f.read()\n",
        "        lst=list(x)\n",
        "        for i in lst:\n",
        "            if(i.islower()):\n",
        "                c=c+1;\n",
        "    return c\n",
        "print(countCharacter(\"file2.txt\"))"
      ],
      "execution_count": 89,
      "outputs": [
        {
          "output_type": "stream",
          "text": [
            "50\n"
          ],
          "name": "stdout"
        }
      ]
    },
    {
      "cell_type": "code",
      "metadata": {
        "id": "cGg2YwhhqO-7",
        "colab_type": "code",
        "colab": {
          "base_uri": "https://localhost:8080/",
          "height": 118
        },
        "outputId": "83dbf7ba-864e-4aa5-c0a4-ba7b8fd6059c"
      },
      "source": [
        "#Function for reading the file data\n",
        "def readfile(filename):\n",
        "    f=open(filename,\"r\")\n",
        "    if f.mode == \"r\":\n",
        "        x=f.read()\n",
        "        print(x)\n",
        "    f.close()\n",
        "    return\n",
        "readfile(\"file2.txt\")"
      ],
      "execution_count": 90,
      "outputs": [
        {
          "output_type": "stream",
          "text": [
            "This is 0 lines\n",
            "This is 1 lines\n",
            "This is 2 lines\n",
            "This is 3 lines\n",
            "This is 4 lines\n",
            "\n"
          ],
          "name": "stdout"
        }
      ]
    },
    {
      "cell_type": "code",
      "metadata": {
        "id": "NqrZrocHrFRz",
        "colab_type": "code",
        "colab": {
          "base_uri": "https://localhost:8080/",
          "height": 34
        },
        "outputId": "2088d021-8bd9-4493-d410-4cb3cd3578f7"
      },
      "source": [
        "#Need to return the count of digits\n",
        "def countCharacter(filename):\n",
        "    c=0\n",
        "    f=open(filename,\"r\")\n",
        "    if f.mode=='r':\n",
        "        x=f.read()\n",
        "        lst=list(x)\n",
        "        for i in lst:\n",
        "            if(i.isdecimal()):\n",
        "                c=c+1;\n",
        "    return c\n",
        "print(countCharacter(\"file2.txt\"))"
      ],
      "execution_count": 91,
      "outputs": [
        {
          "output_type": "stream",
          "text": [
            "5\n"
          ],
          "name": "stdout"
        }
      ]
    },
    {
      "cell_type": "code",
      "metadata": {
        "id": "k2uoZUIDsycE",
        "colab_type": "code",
        "colab": {
          "base_uri": "https://localhost:8080/",
          "height": 34
        },
        "outputId": "b5562989-b387-497f-fa1a-af238d9f2147"
      },
      "source": [
        "#Need to return the count of spl characers\n",
        "def countCharacter(filename):\n",
        "    c=0\n",
        "    low=0\n",
        "    up=0\n",
        "    dec=0\n",
        "    f=open(filename,\"r\")\n",
        "    if f.mode=='r':\n",
        "        x=f.read()\n",
        "        lst=list(x)\n",
        "        for i in lst:\n",
        "            if i.islower():\n",
        "                low=low+1;\n",
        "            elif i.isupper():\n",
        "                up=up+1\n",
        "            elif i.isdecimal():\n",
        "                dec=dec+1\n",
        "          \n",
        "            else:\n",
        "                c=c+1 # here \\n is considered as special character\n",
        "    return c\n",
        "print(countCharacter(\"file2.txt\"))"
      ],
      "execution_count": 95,
      "outputs": [
        {
          "output_type": "stream",
          "text": [
            "20\n"
          ],
          "name": "stdout"
        }
      ]
    },
    {
      "cell_type": "code",
      "metadata": {
        "id": "wpVwH5JC0RSG",
        "colab_type": "code",
        "colab": {
          "base_uri": "https://localhost:8080/",
          "height": 101
        },
        "outputId": "7a115267-bd8b-46df-baa6-8166747ce936"
      },
      "source": [
        "#Need to create a file which these parameters name,EmailID,Mobile number,Validate the EmailID,Validate the Mobile Number\n",
        "import re\n",
        "def phoneNumberVariable(phone):\n",
        "    pattern='^[6-9][0-9]{9}$|^[0][6-9][0-9]{9}$|^[+][9][1][6-9][0-9]{9}$'\n",
        "    phone=str(phone)\n",
        "    if re.match(pattern,phone):\n",
        "        return True\n",
        "    return False\n",
        "def createFile(filename):\n",
        "    f=open(filename,\"w\")\n",
        "    f.write(\"name: bhavana\")\n",
        "    f.write(\"emailID:chbhavana@gmail.com\")\n",
        "    f.write(\"Mobile number: 2345678901\")\n",
        "    print(\"File is created and Data is written\")\n",
        "    f.close()    \n",
        "    return\n",
        "createFile(\"file2.txt\")\n",
        "\n",
        "\n",
        "# Validation for EmailID Username@DomainName.extension\n",
        "def validateEmailID(email):\n",
        "    pattern=\"^[0-9a-z][0-9a-z_.]{5,14}[0-9a-z][@][a-z0-9]{3,18}[.][a-z]{2,4}$\"\n",
        "    if re.match(pattern,email):\n",
        "        return True\n",
        "    return False\n",
        "\n",
        "\n",
        "\n",
        "print(phoneNumberVariable(\"+917032653823\"))\n",
        "print(phoneNumberVariable(\"08712345674\"))\n",
        "print(phoneNumberVariable(\"8712345674\"))\n",
        "\n",
        "print(validateEmailID(\"chbhavana@gmail.com\"))"
      ],
      "execution_count": 97,
      "outputs": [
        {
          "output_type": "stream",
          "text": [
            "File is created and Data is written\n",
            "True\n",
            "True\n",
            "True\n",
            "True\n"
          ],
          "name": "stdout"
        }
      ]
    }
  ]
}