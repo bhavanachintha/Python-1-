{
  "nbformat": 4,
  "nbformat_minor": 0,
  "metadata": {
    "colab": {
      "name": "String Functions",
      "version": "0.3.2",
      "provenance": []
    },
    "kernelspec": {
      "name": "python3",
      "display_name": "Python 3"
    }
  },
  "cells": [
    {
      "cell_type": "code",
      "metadata": {
        "id": "m39S2UrXmqIm",
        "colab_type": "code",
        "colab": {
          "base_uri": "https://localhost:8080/",
          "height": 84
        },
        "outputId": "1bea156a-9994-4fc9-a48d-fbed7bd81606"
      },
      "source": [
        "user={'Name':'Bhavana','Age':'19','Emailid':'chbhavana@gmail.com','Mobilenumber':'108'}\n",
        "user1=user.copy()\n",
        "print(user)\n",
        "print(user1)\n",
        "user1['Address']='Hyderabad'\n",
        "print(user)\n",
        "print(user1)"
      ],
      "execution_count": 1,
      "outputs": [
        {
          "output_type": "stream",
          "text": [
            "{'Name': 'Bhavana', 'Age': '19', 'Emailid': 'chbhavana@gmail.com', 'Mobilenumber': '108'}\n",
            "{'Name': 'Bhavana', 'Age': '19', 'Emailid': 'chbhavana@gmail.com', 'Mobilenumber': '108'}\n",
            "{'Name': 'Bhavana', 'Age': '19', 'Emailid': 'chbhavana@gmail.com', 'Mobilenumber': '108'}\n",
            "{'Name': 'Bhavana', 'Age': '19', 'Emailid': 'chbhavana@gmail.com', 'Mobilenumber': '108', 'Address': 'Hyderabad'}\n"
          ],
          "name": "stdout"
        }
      ]
    },
    {
      "cell_type": "code",
      "metadata": {
        "id": "lySRRIjdms1z",
        "colab_type": "code",
        "colab": {
          "base_uri": "https://localhost:8080/",
          "height": 34
        },
        "outputId": "75f8a05c-1d78-416c-9021-1ff5cdabad36"
      },
      "source": [
        "user1={'Name':'Bhavana','Age':'19','Emailid':'chbhavana@gmail.com','Mobilenumber':'108'}\n",
        "print(str(user1))"
      ],
      "execution_count": 2,
      "outputs": [
        {
          "output_type": "stream",
          "text": [
            "{'Name': 'Bhavana', 'Age': '19', 'Emailid': 'chbhavana@gmail.com', 'Mobilenumber': '108'}\n"
          ],
          "name": "stdout"
        }
      ]
    },
    {
      "cell_type": "code",
      "metadata": {
        "id": "hhinEKbtnp58",
        "colab_type": "code",
        "colab": {
          "base_uri": "https://localhost:8080/",
          "height": 34
        },
        "outputId": "db70d1e0-dc63-4f13-d516-1c7a246b8bdc"
      },
      "source": [
        "user1={'Name':'Bhavana','Age':'19','Emailid':'chbhavana@gmail.com','Mobilenumber':'108'}\n",
        "print(user1.items())"
      ],
      "execution_count": 4,
      "outputs": [
        {
          "output_type": "stream",
          "text": [
            "dict_items([('Name', 'Bhavana'), ('Age', '19'), ('Emailid', 'chbhavana@gmail.com'), ('Mobilenumber', '108')])\n"
          ],
          "name": "stdout"
        }
      ]
    },
    {
      "cell_type": "code",
      "metadata": {
        "id": "EHmmSZIMn2WT",
        "colab_type": "code",
        "colab": {
          "base_uri": "https://localhost:8080/",
          "height": 50
        },
        "outputId": "3e2f2b42-0d9f-4569-a0c7-d844570955e4"
      },
      "source": [
        "user1={'Name':'Bhavana','Age':'19','Emailid':'chbhavana@gmail.com','Mobilenumber':'108'}\n",
        "user2=user1.copy()\n",
        "print(user1.values())\n",
        "print(user2.values())\n"
      ],
      "execution_count": 6,
      "outputs": [
        {
          "output_type": "stream",
          "text": [
            "dict_values(['Bhavana', '19', 'chbhavana@gmail.com', '108'])\n",
            "dict_values(['Bhavana', '19', 'chbhavana@gmail.com', '108'])\n"
          ],
          "name": "stdout"
        }
      ]
    },
    {
      "cell_type": "markdown",
      "metadata": {
        "id": "sYxAl2zeoe8U",
        "colab_type": "text"
      },
      "source": [
        "# String Formatting\n",
        "%s %d"
      ]
    },
    {
      "cell_type": "code",
      "metadata": {
        "id": "N0_PMvzVoqxz",
        "colab_type": "code",
        "colab": {
          "base_uri": "https://localhost:8080/",
          "height": 34
        },
        "outputId": "edc235ab-b60a-43a3-ae4d-5390584e14e7"
      },
      "source": [
        "lst=['Python','Programming']\n",
        "print(\"%s %s\"%(lst[0],lst[1]))"
      ],
      "execution_count": 8,
      "outputs": [
        {
          "output_type": "stream",
          "text": [
            "Python Programming\n"
          ],
          "name": "stdout"
        }
      ]
    },
    {
      "cell_type": "code",
      "metadata": {
        "id": "HfG4uTKupF5c",
        "colab_type": "code",
        "colab": {
          "base_uri": "https://localhost:8080/",
          "height": 34
        },
        "outputId": "159a29cd-2077-4143-ceac-23ed7c0b80b9"
      },
      "source": [
        "lst=['Python','Programming']\n",
        "print(\"{0} {1}\".format(lst[0],lst[1]))"
      ],
      "execution_count": 9,
      "outputs": [
        {
          "output_type": "stream",
          "text": [
            "Python Programming\n"
          ],
          "name": "stdout"
        }
      ]
    },
    {
      "cell_type": "code",
      "metadata": {
        "id": "5kR2PRWkNlCj",
        "colab_type": "code",
        "colab": {
          "base_uri": "https://localhost:8080/",
          "height": 34
        },
        "outputId": "b3cce506-7c68-4319-e757-7343e4179101"
      },
      "source": [
        "lst=[1,2,3,4]\n",
        "print(\"%d %d %d %d\"%(lst[0],lst[1],lst[2],lst[3]))"
      ],
      "execution_count": 37,
      "outputs": [
        {
          "output_type": "stream",
          "text": [
            "1 2 3 4\n"
          ],
          "name": "stdout"
        }
      ]
    },
    {
      "cell_type": "code",
      "metadata": {
        "id": "s044D_rvNlAp",
        "colab_type": "code",
        "colab": {
          "base_uri": "https://localhost:8080/",
          "height": 50
        },
        "outputId": "cd13c851-6679-4c8d-f29c-09cd5fe60389"
      },
      "source": [
        "lst=[1,2,3,4]\n",
        "print(\"value at : {0} value at :  {1}\".format(lst[0],lst[1]))\n",
        "print(\"value at : {0} value at :  {1}\".format(lst[2],lst[3]))"
      ],
      "execution_count": 38,
      "outputs": [
        {
          "output_type": "stream",
          "text": [
            "value at : 1 value at :  2\n",
            "value at : 3 value at :  4\n"
          ],
          "name": "stdout"
        }
      ]
    },
    {
      "cell_type": "markdown",
      "metadata": {
        "id": "n8iEYQz078h5",
        "colab_type": "text"
      },
      "source": [
        "### CONTACT APPLICATION\n",
        "1.Add new contact   \n",
        "2.Search for new contact   \n",
        "3.List of all contact   \n",
        "          * 3.1 Name1-phone1   \n",
        "           *3.2 Name2-phone2  \n",
        "           *3.3 Importing new contacts   \n",
        "           *3.4 Merge existing new contacts   \n",
        "4.Remove contact    \n",
        "5.Modify Contact   "
      ]
    },
    {
      "cell_type": "code",
      "metadata": {
        "id": "7LOq5yiR86dA",
        "colab_type": "code",
        "colab": {
          "base_uri": "https://localhost:8080/",
          "height": 67
        },
        "outputId": "17dfdb56-b5ee-42da-b726-f8c56aa57763"
      },
      "source": [
        "contacts={}\n",
        "def addcontact(name,phone):\n",
        "    #verify that the contact doesnot already exists\n",
        "    if name not in contacts:\n",
        "        contacts[name]=phone\n",
        "        print(\"contact %s added\" % name)\n",
        "    else:\n",
        "      print(\"contact %s already exists\" % name)\n",
        "    return\n",
        "  \n",
        "\n",
        "addcontact(\"Bhavana\",108)\n",
        "addcontact(\"harsha\",100)\n",
        "addcontact(\"kk\",111)"
      ],
      "execution_count": 19,
      "outputs": [
        {
          "output_type": "stream",
          "text": [
            "contact Bhavana added\n",
            "contact harsha added\n",
            "contact kk added\n"
          ],
          "name": "stdout"
        }
      ]
    },
    {
      "cell_type": "code",
      "metadata": {
        "id": "qTnqLZ2kAwfy",
        "colab_type": "code",
        "colab": {
          "base_uri": "https://localhost:8080/",
          "height": 67
        },
        "outputId": "98719507-67d5-4da9-ba4b-08b27616edda"
      },
      "source": [
        "# search for a particular contact from contacts list \n",
        "def searchcontact(name):\n",
        "    if name in contacts:\n",
        "        print(name,\":\",contacts[name])\n",
        "    else:\n",
        "        print(\"%s does not exist\" % name)\n",
        "    return\n",
        "searchcontact(\"kk\")\n",
        "searchcontact(\"pppp\")\n",
        "searchcontact(\"rrrr\")\n",
        "\n",
        "  "
      ],
      "execution_count": 22,
      "outputs": [
        {
          "output_type": "stream",
          "text": [
            "kk : 111\n",
            "pppp does not exist\n",
            "rrrr does not exist\n"
          ],
          "name": "stdout"
        }
      ]
    },
    {
      "cell_type": "code",
      "metadata": {
        "id": "0Sc-hbuHAwen",
        "colab_type": "code",
        "colab": {
          "base_uri": "https://localhost:8080/",
          "height": 34
        },
        "outputId": "722d0189-0f14-48f0-bc6f-c8e0ced6d178"
      },
      "source": [
        "# New contacts is given as a dictionary\n",
        "print(contacts)\n"
      ],
      "execution_count": 23,
      "outputs": [
        {
          "output_type": "stream",
          "text": [
            "{'Bhavana': 108, 'harsha': 100, 'kk': 111}\n"
          ],
          "name": "stdout"
        }
      ]
    },
    {
      "cell_type": "code",
      "metadata": {
        "id": "2Mio3KyIDsXQ",
        "colab_type": "code",
        "colab": {
          "base_uri": "https://localhost:8080/",
          "height": 34
        },
        "outputId": "785bd925-cb0f-49f1-c82b-f06421b7b480"
      },
      "source": [
        "# New contacts is given as a dictionary\n",
        "# Merge new contact with existing contacts list\n",
        "def impocontacts(newcontacts):\n",
        "    contacts.update(newcontacts)\n",
        "    print(len(newcontacts.keys()),\"contacts added succesfully\")\n",
        "    return\n",
        "newcontacts={'ddd':4535,'sss':675}\n",
        "impocontacts(newcontacts)"
      ],
      "execution_count": 24,
      "outputs": [
        {
          "output_type": "stream",
          "text": [
            "2 contacts added succesfully\n"
          ],
          "name": "stdout"
        }
      ]
    },
    {
      "cell_type": "code",
      "metadata": {
        "id": "uYuDd4UkDsWC",
        "colab_type": "code",
        "colab": {
          "base_uri": "https://localhost:8080/",
          "height": 34
        },
        "outputId": "ed984e68-0b1d-4210-d8d2-bd5a8a25d816"
      },
      "source": [
        "print(contacts)"
      ],
      "execution_count": 25,
      "outputs": [
        {
          "output_type": "stream",
          "text": [
            "{'Bhavana': 108, 'harsha': 100, 'kk': 111, 'ddd': 4535, 'sss': 675}\n"
          ],
          "name": "stdout"
        }
      ]
    },
    {
      "cell_type": "code",
      "metadata": {
        "id": "NMUXgAC4GyWJ",
        "colab_type": "code",
        "colab": {
          "base_uri": "https://localhost:8080/",
          "height": 50
        },
        "outputId": "7faa4396-a9f9-4b18-db34-95d51c2fa63f"
      },
      "source": [
        "# Delete a contact from contacts list\n",
        "def deletecontact(name):\n",
        "    if name in contacts:\n",
        "        del contacts[name]\n",
        "        print(name,\": is deleted from the contacts\")\n",
        "    else:\n",
        "        print(name,\"is not exists in contacts\")\n",
        "    return\n",
        "deletecontact(\"kk\")\n",
        "deletecontact(\"anil\")"
      ],
      "execution_count": 31,
      "outputs": [
        {
          "output_type": "stream",
          "text": [
            "kk : is deleted from the contacts\n",
            "anil is not exists in contacts\n"
          ],
          "name": "stdout"
        }
      ]
    },
    {
      "cell_type": "code",
      "metadata": {
        "id": "rZaCuLXjIuCp",
        "colab_type": "code",
        "colab": {
          "base_uri": "https://localhost:8080/",
          "height": 34
        },
        "outputId": "c187705d-f8e8-4bd6-870e-d497b77a5b95"
      },
      "source": [
        "print(contacts)"
      ],
      "execution_count": 32,
      "outputs": [
        {
          "output_type": "stream",
          "text": [
            "{'Bhavana': 108, 'ddd': 4535, 'sss': 675}\n"
          ],
          "name": "stdout"
        }
      ]
    },
    {
      "cell_type": "code",
      "metadata": {
        "id": "ClSgoUBaK53K",
        "colab_type": "code",
        "colab": {
          "base_uri": "https://localhost:8080/",
          "height": 50
        },
        "outputId": "f8f4e2b4-683f-476b-d339-bafabffd4940"
      },
      "source": [
        "def updatecontact(name,phone):\n",
        "    if name in contacts:\n",
        "          contacts[name]=phone\n",
        "          print(name,\":updated with new phone number\")\n",
        "    else:\n",
        "       print(name,\"not exists in the contacts\")\n",
        "    return\n",
        "\n",
        "updatecontact(\"Bhavana\",233)\n",
        "updatecontact(\"kk\",546)"
      ],
      "execution_count": 35,
      "outputs": [
        {
          "output_type": "stream",
          "text": [
            "Bhavana :updated with new phone number\n",
            "kk not exists in the contacts\n"
          ],
          "name": "stdout"
        }
      ]
    },
    {
      "cell_type": "code",
      "metadata": {
        "id": "Hp9-cS1ZMDiQ",
        "colab_type": "code",
        "colab": {
          "base_uri": "https://localhost:8080/",
          "height": 34
        },
        "outputId": "611639d3-28f5-4a39-abbf-ba74d0dea692"
      },
      "source": [
        "print(contacts)"
      ],
      "execution_count": 36,
      "outputs": [
        {
          "output_type": "stream",
          "text": [
            "{'Bhavana': 233, 'ddd': 4535, 'sss': 675}\n"
          ],
          "name": "stdout"
        }
      ]
    },
    {
      "cell_type": "markdown",
      "metadata": {
        "id": "SScsQC6GPP1S",
        "colab_type": "text"
      },
      "source": [
        "### Packages and Modules\n",
        "**Package :- Collection of modules(Python file.py)    \n",
        "**Sub packages:Its part of Main package    \n",
        "**Module:A single python file contains set of operations(Functions)     \n",
        "**Packages--->Sub Package-->Modules-->Function    \n",
        "**Standard Lib--Math     "
      ]
    },
    {
      "cell_type": "code",
      "metadata": {
        "id": "8OA2O2xoPTZc",
        "colab_type": "code",
        "colab": {
          "base_uri": "https://localhost:8080/",
          "height": 34
        },
        "outputId": "bb9eacdf-0f58-43af-b939-ffdd970b2102"
      },
      "source": [
        "from math import floor as f1 # The memory allocated only for the function of floor\n",
        "f1(123.456)"
      ],
      "execution_count": 39,
      "outputs": [
        {
          "output_type": "execute_result",
          "data": {
            "text/plain": [
              "123"
            ]
          },
          "metadata": {
            "tags": []
          },
          "execution_count": 39
        }
      ]
    },
    {
      "cell_type": "code",
      "metadata": {
        "id": "LmASwecYXsYh",
        "colab_type": "code",
        "colab": {
          "base_uri": "https://localhost:8080/",
          "height": 34
        },
        "outputId": "89f596e3-8da5-4413-f39c-30e791cd7eb6"
      },
      "source": [
        "from math import factorial as fact\n",
        "fact(5)"
      ],
      "execution_count": 40,
      "outputs": [
        {
          "output_type": "execute_result",
          "data": {
            "text/plain": [
              "120"
            ]
          },
          "metadata": {
            "tags": []
          },
          "execution_count": 40
        }
      ]
    },
    {
      "cell_type": "code",
      "metadata": {
        "id": "mkbp4XdUX0lv",
        "colab_type": "code",
        "colab": {
          "base_uri": "https://localhost:8080/",
          "height": 34
        },
        "outputId": "2946299f-1c95-4118-f2aa-16ffea4cbcc5"
      },
      "source": [
        "import math\n",
        "math.factorial(5)"
      ],
      "execution_count": 42,
      "outputs": [
        {
          "output_type": "execute_result",
          "data": {
            "text/plain": [
              "120"
            ]
          },
          "metadata": {
            "tags": []
          },
          "execution_count": 42
        }
      ]
    },
    {
      "cell_type": "code",
      "metadata": {
        "id": "4PX-nvENX_pR",
        "colab_type": "code",
        "colab": {
          "base_uri": "https://localhost:8080/",
          "height": 34
        },
        "outputId": "2a1cfd44-cc75-4889-c607-1c88565d984d"
      },
      "source": [
        "# Generate the random numbers between the two limits\n",
        "import random\n",
        "def generaterandomnum(n,lb,ub):\n",
        "    for i in range(0,n):\n",
        "        print(random.randint(lb,ub),end=\" \")\n",
        "    return\n",
        "generaterandomnum(10,12,120)"
      ],
      "execution_count": 48,
      "outputs": [
        {
          "output_type": "stream",
          "text": [
            "100 93 97 72 118 37 53 95 88 115 "
          ],
          "name": "stdout"
        }
      ]
    },
    {
      "cell_type": "markdown",
      "metadata": {
        "id": "bPT5ztVJeOqF",
        "colab_type": "text"
      },
      "source": [
        "# ##Assignment\n",
        "1.Use math package --- Extract minimum of 10 functions    \n",
        "2.Use random package---  Extract minimum of 10 functions     "
      ]
    },
    {
      "cell_type": "code",
      "metadata": {
        "id": "GMaiH8CVgw2m",
        "colab_type": "code",
        "colab": {
          "base_uri": "https://localhost:8080/",
          "height": 168
        },
        "outputId": "30971f72-0ebe-4561-ef73-fe5f6838cba9"
      },
      "source": [
        "import math\n",
        "a=-2\n",
        "b=3\n",
        "print (\"Natural logarithm of 14 is : \", end=\"\") \n",
        "print (math.log(14)) \n",
        "\n",
        "#gcd \n",
        "print (\"The gcd of 60 and 48 is : \",end=\"\") \n",
        "print (math.gcd(60,48)) \n",
        "\n",
        "\n",
        "# fmod\n",
        "Tup = (15, 22, -2, -40 ) \n",
        "print(math.fmod(4, 5)) \n",
        "print(math.fmod(43.50, 4.5))\n",
        "\n",
        "# returning the floor of 2.3 \n",
        "print (\"The floor of 2.3 is : \", end=\"\") \n",
        "print (math.floor(a)) \n",
        "\n",
        "# returning the factorial of 5 \n",
        "print (\"The factorial of 5 is : \", end=\"\") \n",
        "print (math.factorial(b)) \n",
        "\n",
        "\n",
        "# print the square root of 3\n",
        "print(math.sqrt(4))\n",
        "\n",
        "\n",
        "\n",
        "# function to check if prime or not  \n",
        "def check(n): \n",
        "    if n == 1: \n",
        "        return False\n",
        "          \n",
        "        # from 1 to sqrt(n)  \n",
        "    for x in range(2, (int)(math.sqrt(n))+1): \n",
        "        if n % x == 0: \n",
        "            return False \n",
        "    return True\n",
        "  \n",
        "# driver code \n",
        "n = 23\n",
        "if check(n): \n",
        "    print(\"prime\")  \n",
        "else: \n",
        "    print(\"not prime\") \n",
        "    \n",
        "    \n",
        "    \n",
        "# returning the copysign  \n",
        "print (\"The copysign of a and b is : \", end =\"\")  \n",
        "print (math.copysign(a, b)) \n",
        "    \n"
      ],
      "execution_count": 62,
      "outputs": [
        {
          "output_type": "stream",
          "text": [
            "Natural logarithm of 14 is : 2.6390573296152584\n",
            "The gcd of 60 and 48 is : 12\n",
            "4.0\n",
            "3.0\n",
            "The floor of 2.3 is : -2\n",
            "The factorial of 5 is : 6\n",
            "2.0\n",
            "prime\n",
            "The copysign of a and b is : 2.0\n"
          ],
          "name": "stdout"
        }
      ]
    },
    {
      "cell_type": "code",
      "metadata": {
        "id": "fyYY7kqWhOst",
        "colab_type": "code",
        "colab": {
          "base_uri": "https://localhost:8080/",
          "height": 138
        },
        "outputId": "7b3499a3-e92b-42a1-9a4c-72949fd6f396"
      },
      "source": [
        "from random import *\n",
        "lt,lq,lw,le=[],[],[],[]\n",
        "for i in range(10):\n",
        "    lt.append(randint(1,100))\n",
        "    lq.append(random())\n",
        "print(lt)\n",
        "print(lq)\n",
        "shuffle(lt)\n",
        "print(lt)\n",
        "k=uniform(5,10)\n",
        "print(k)\n",
        "z=seed(k)\n",
        "print(z)\n",
        "print(choice(lt))\n"
      ],
      "execution_count": 63,
      "outputs": [
        {
          "output_type": "stream",
          "text": [
            "[80, 64, 52, 23, 28, 33, 14, 69, 2, 33]\n",
            "[0.1411553570948716, 0.7472827752332426, 0.25524710249852356, 0.45018905474706317, 0.20898556950461644, 0.26630843525495673, 0.8337868235336269, 0.10558197948203507, 0.3637136516748405, 0.553341616139252]\n",
            "[33, 33, 23, 69, 14, 80, 64, 52, 2, 28]\n",
            "9.719777321465283\n",
            "None\n",
            "52\n"
          ],
          "name": "stdout"
        }
      ]
    }
  ]
}