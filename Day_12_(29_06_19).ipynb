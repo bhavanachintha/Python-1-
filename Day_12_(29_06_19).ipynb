{
  "nbformat": 4,
  "nbformat_minor": 0,
  "metadata": {
    "colab": {
      "name": "Day-12 (29-06-19)",
      "version": "0.3.2",
      "provenance": [],
      "include_colab_link": true
    },
    "kernelspec": {
      "name": "python3",
      "display_name": "Python 3"
    }
  },
  "cells": [
    {
      "cell_type": "markdown",
      "metadata": {
        "id": "view-in-github",
        "colab_type": "text"
      },
      "source": [
        "<a href=\"https://colab.research.google.com/github/bhavanachintha/Python-1-/blob/master/Day_12_(29_06_19).ipynb\" target=\"_parent\"><img src=\"https://colab.research.google.com/assets/colab-badge.svg\" alt=\"Open In Colab\"/></a>"
      ]
    },
    {
      "cell_type": "code",
      "metadata": {
        "id": "eudVu-EZX3dT",
        "colab_type": "code",
        "outputId": "5e3d8ada-2aba-4184-f114-82d7ca30ae84",
        "colab": {
          "base_uri": "https://localhost:8080/",
          "height": 134
        }
      },
      "source": [
        "#Create a series of numbers by passing a list of values\n",
        "\n",
        "import pandas as pd\n",
        "a=pd.Series([1,3,4,5,6,7])\n",
        "print(a)"
      ],
      "execution_count": 0,
      "outputs": [
        {
          "output_type": "stream",
          "text": [
            "0    1\n",
            "1    3\n",
            "2    4\n",
            "3    5\n",
            "4    6\n",
            "5    7\n",
            "dtype: int64\n"
          ],
          "name": "stdout"
        }
      ]
    },
    {
      "cell_type": "code",
      "metadata": {
        "id": "RSQMDxaqZdn1",
        "colab_type": "code",
        "outputId": "c5e11071-8d0f-484a-b297-7a68f4f6917d",
        "colab": {
          "base_uri": "https://localhost:8080/",
          "height": 134
        }
      },
      "source": [
        "#Missing valuesthen it can be nan of numpy\n",
        "import numpy as np\n",
        "a1=pd.Series([1,2,3,4,np.nan,6])\n",
        "print(a1)"
      ],
      "execution_count": 0,
      "outputs": [
        {
          "output_type": "stream",
          "text": [
            "0    1.0\n",
            "1    2.0\n",
            "2    3.0\n",
            "3    4.0\n",
            "4    NaN\n",
            "5    6.0\n",
            "dtype: float64\n"
          ],
          "name": "stdout"
        }
      ]
    },
    {
      "cell_type": "code",
      "metadata": {
        "id": "4d3yiweBZ0Kc",
        "colab_type": "code",
        "outputId": "b7369ba7-bea1-4993-a790-d95a7c75ed3d",
        "colab": {
          "base_uri": "https://localhost:8080/",
          "height": 84
        }
      },
      "source": [
        "# Create a list of dates with in particular range\n",
        "\n",
        "dates = pd.date_range('20190601',periods=10)\n",
        "print(dates)"
      ],
      "execution_count": 0,
      "outputs": [
        {
          "output_type": "stream",
          "text": [
            "DatetimeIndex(['2019-06-01', '2019-06-02', '2019-06-03', '2019-06-04',\n",
            "               '2019-06-05', '2019-06-06', '2019-06-07', '2019-06-08',\n",
            "               '2019-06-09', '2019-06-10'],\n",
            "              dtype='datetime64[ns]', freq='D')\n"
          ],
          "name": "stdout"
        }
      ]
    },
    {
      "cell_type": "code",
      "metadata": {
        "id": "JpUxPxsIZ0JU",
        "colab_type": "code",
        "outputId": "add2a72c-d8e7-4ddd-cdaa-220ac4d8ead0",
        "colab": {
          "base_uri": "https://localhost:8080/",
          "height": 67
        }
      },
      "source": [
        "lst=pd.date_range('20190601',periods=5)\n",
        "print(lst)"
      ],
      "execution_count": 7,
      "outputs": [
        {
          "output_type": "stream",
          "text": [
            "DatetimeIndex(['2019-06-01', '2019-06-02', '2019-06-03', '2019-06-04',\n",
            "               '2019-06-05'],\n",
            "              dtype='datetime64[ns]', freq='D')\n"
          ],
          "name": "stdout"
        }
      ]
    },
    {
      "cell_type": "code",
      "metadata": {
        "id": "AvqjYdCpdmgd",
        "colab_type": "code",
        "outputId": "8918ffb9-4b7a-4b84-a13c-de637eab9a32",
        "colab": {
          "base_uri": "https://localhost:8080/",
          "height": 101
        }
      },
      "source": [
        "#Creating a dict converted into series of values\n",
        "a3=pd.DataFrame({'A':1.,\n",
        "                'B':pd.Timestamp('20190601'),\n",
        "                'C':pd.Series(1,index=list(range(4)),dtype='float32'),\n",
        "                'D':np.array([3]*4,dtype='int32'),\n",
        "                'E':pd.Categorical([\"test\",\"train\",\"test\",\"train\"]),\n",
        "                'F':'foo'})\n",
        "print(a3)"
      ],
      "execution_count": 0,
      "outputs": [
        {
          "output_type": "stream",
          "text": [
            "     A          B    C  D      E    F\n",
            "0  1.0 2019-06-01  1.0  3   test  foo\n",
            "1  1.0 2019-06-01  1.0  3  train  foo\n",
            "2  1.0 2019-06-01  1.0  3   test  foo\n",
            "3  1.0 2019-06-01  1.0  3  train  foo\n"
          ],
          "name": "stdout"
        }
      ]
    },
    {
      "cell_type": "markdown",
      "metadata": {
        "id": "QWekIc9Mlzq4",
        "colab_type": "text"
      },
      "source": [
        "**Turtle is a Python feature like a drawing board    \n",
        "**Lines,Squares,Star,Rect and etc    \n",
        "**Turtle()--It creates and returns a new turtle object     "
      ]
    },
    {
      "cell_type": "code",
      "metadata": {
        "id": "lcsm0W8ClfDi",
        "colab_type": "code",
        "colab": {}
      },
      "source": [
        ""
      ],
      "execution_count": 0,
      "outputs": []
    }
  ]
}