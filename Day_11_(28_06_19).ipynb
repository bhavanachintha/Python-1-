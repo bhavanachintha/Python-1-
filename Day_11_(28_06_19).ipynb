{
  "nbformat": 4,
  "nbformat_minor": 0,
  "metadata": {
    "colab": {
      "name": "Day-11 (28-06-19)",
      "version": "0.3.2",
      "provenance": [],
      "include_colab_link": true
    },
    "kernelspec": {
      "name": "python3",
      "display_name": "Python 3"
    }
  },
  "cells": [
    {
      "cell_type": "markdown",
      "metadata": {
        "id": "view-in-github",
        "colab_type": "text"
      },
      "source": [
        "<a href=\"https://colab.research.google.com/github/bhavanachintha/Python-1-/blob/master/Day_11_(28_06_19).ipynb\" target=\"_parent\"><img src=\"https://colab.research.google.com/assets/colab-badge.svg\" alt=\"Open In Colab\"/></a>"
      ]
    },
    {
      "cell_type": "markdown",
      "metadata": {
        "id": "kHuGgB19NSPu",
        "colab_type": "text"
      },
      "source": [
        "#Introduction to OOP in Python\n",
        "**one of the popular approach to solve a programming probleb by creating an objects. This is known as Object Oriented Programming.     \n",
        "An object has two characterstics:    \n",
        "1.attributes(name,age,colour)   \n",
        "2.behaviour(learn,study,singing,dance)   \n",
        "\n",
        "**In Python, the concept OOP follow these things:   \n",
        "\n",
        "1.Inheritance  \n",
        "2.Encapsulation    #(wraping data into single unit)    \n",
        "3.Ploymorphism  \n",
        " \n",
        "**Class:  \n",
        "A class is blueprint for the object or  logical entity   \n",
        "\n",
        "**Object:    \n",
        "Blue print of class or instance of the class or physical entity  \n",
        "\n",
        "**Methods:    \n",
        " part of class and can be called with object    \n",
        " \n",
        " **Constructors:    \n",
        " Part of class  and can be called automatically when the class object is created   \n",
        "\n",
        "\n"
      ]
    },
    {
      "cell_type": "code",
      "metadata": {
        "id": "v4JyeQnSNSwG",
        "colab_type": "code",
        "colab": {}
      },
      "source": [
        "class classname:\n",
        "      #some functions and variables\n",
        "      #Function-- used to perform the specific activity\n",
        "       # variables -- Data(memory)"
      ],
      "execution_count": 0,
      "outputs": []
    },
    {
      "cell_type": "code",
      "metadata": {
        "id": "HwsrXau-P83n",
        "colab_type": "code",
        "outputId": "0c17dad0-22ec-479d-8567-70dc859e9973",
        "colab": {
          "base_uri": "https://localhost:8080/",
          "height": 34
        }
      },
      "source": [
        "def test():\n",
        "    print('test() for funtion')\n",
        "    return\n",
        "test()"
      ],
      "execution_count": 0,
      "outputs": [
        {
          "output_type": "stream",
          "text": [
            "test() for funtion\n"
          ],
          "name": "stdout"
        }
      ]
    },
    {
      "cell_type": "code",
      "metadata": {
        "id": "2oazgcN8OCkt",
        "colab_type": "code",
        "outputId": "8826769c-4ef7-49be-e521-2c96d74cf1ff",
        "colab": {
          "base_uri": "https://localhost:8080/",
          "height": 34
        }
      },
      "source": [
        "class demo:\n",
        "  def test(self):\n",
        "      print(\"test() for the class and method\")\n",
        "      return\n",
        "obj= demo()\n",
        "obj.test()"
      ],
      "execution_count": 0,
      "outputs": [
        {
          "output_type": "stream",
          "text": [
            "test() for the class and method\n"
          ],
          "name": "stdout"
        }
      ]
    },
    {
      "cell_type": "code",
      "metadata": {
        "id": "ltUnCA_KOCjn",
        "colab_type": "code",
        "outputId": "b8750d22-4d36-4013-fc12-2e27a29a7dad",
        "colab": {
          "base_uri": "https://localhost:8080/",
          "height": 34
        }
      },
      "source": [
        "class demo1:\n",
        "   def fact(self,n):\n",
        "       #return the factorial\n",
        "        fact=1\n",
        "        while(n!=0):\n",
        "          fact=fact*n\n",
        "          n=n-1\n",
        "        return fact\n",
        "      \n",
        "p1=demo1()\n",
        "p1.fact(5)#120"
      ],
      "execution_count": 0,
      "outputs": [
        {
          "output_type": "execute_result",
          "data": {
            "text/plain": [
              "120"
            ]
          },
          "metadata": {
            "tags": []
          },
          "execution_count": 10
        }
      ]
    },
    {
      "cell_type": "code",
      "metadata": {
        "id": "T-_Ck7MROCif",
        "colab_type": "code",
        "colab": {}
      },
      "source": [
        "# Method \n",
        "# def test(self,para1,para2)"
      ],
      "execution_count": 0,
      "outputs": []
    },
    {
      "cell_type": "code",
      "metadata": {
        "id": "PCfVSWDDUhLk",
        "colab_type": "code",
        "colab": {}
      },
      "source": [
        "class demo2:\n",
        "     \n",
        "     def accept(self,p1,p2):\n",
        "         a=p1\n",
        "         b=p2\n",
        "         return\n",
        "     def display(self):\n",
        "         print(\"a= \",a)\n",
        "         print(\"b= \",b)\n",
        "        \n",
        "c1=demo2()\n",
        "c1.accept(10,20)\n",
        "c1.display()"
      ],
      "execution_count": 0,
      "outputs": []
    },
    {
      "cell_type": "code",
      "metadata": {
        "id": "MxKE3uHRUhKF",
        "colab_type": "code",
        "outputId": "33a8dc41-e4e1-43ce-d23a-cf630d4e52a8",
        "colab": {
          "base_uri": "https://localhost:8080/",
          "height": 34
        }
      },
      "source": [
        "class demo2:\n",
        "   def __init__(self,p1,p2):\n",
        "       self.p1=p1\n",
        "       self.p2=p2\n",
        "      \n",
        "   def add(self,p1,p2):\n",
        "       return p1+p2\n",
        "    \n",
        "c1=demo2(10,20)\n",
        "print(c1.add(100,200))"
      ],
      "execution_count": 0,
      "outputs": [
        {
          "output_type": "stream",
          "text": [
            "300\n"
          ],
          "name": "stdout"
        }
      ]
    },
    {
      "cell_type": "code",
      "metadata": {
        "id": "5tEyCpC32X8Z",
        "colab_type": "code",
        "outputId": "709b0b8d-b300-4148-a348-394ea0007e3a",
        "colab": {
          "base_uri": "https://localhost:8080/",
          "height": 34
        }
      },
      "source": [
        "import numpy as np\n",
        "lst=[1,2,3,4]\n",
        "array=np.array(lst)\n",
        "print(array)\n"
      ],
      "execution_count": 0,
      "outputs": [
        {
          "output_type": "stream",
          "text": [
            "[1 2 3 4]\n"
          ],
          "name": "stdout"
        }
      ]
    },
    {
      "cell_type": "code",
      "metadata": {
        "id": "-BqM467G2X6i",
        "colab_type": "code",
        "outputId": "1e2d4956-96f3-4ac6-afba-7b85fa68316d",
        "colab": {
          "base_uri": "https://localhost:8080/",
          "height": 50
        }
      },
      "source": [
        "lst=[1,2,3,4]\n",
        "array=np.array(lst)\n",
        "print(array.shape)                         \n",
        "print(array.dtype)"
      ],
      "execution_count": 0,
      "outputs": [
        {
          "output_type": "stream",
          "text": [
            "(4,)\n",
            "int64\n"
          ],
          "name": "stdout"
        }
      ]
    },
    {
      "cell_type": "code",
      "metadata": {
        "id": "A_g55h852779",
        "colab_type": "code",
        "outputId": "f193fee8-cfe6-428a-a30b-7a9d1dcb8838",
        "colab": {
          "base_uri": "https://localhost:8080/",
          "height": 50
        }
      },
      "source": [
        "lst=[1.0,2.4,3.6,9.5]\n",
        "array=np.array(lst)\n",
        "print(array.shape)\n",
        "print(array.dtype)\n"
      ],
      "execution_count": 0,
      "outputs": [
        {
          "output_type": "stream",
          "text": [
            "(4,)\n",
            "float64\n"
          ],
          "name": "stdout"
        }
      ]
    },
    {
      "cell_type": "code",
      "metadata": {
        "id": "JaG6qFd13V9a",
        "colab_type": "code",
        "outputId": "62cef983-9b07-4a19-a737-a9a1f5092aa8",
        "colab": {
          "base_uri": "https://localhost:8080/",
          "height": 34
        }
      },
      "source": [
        "a1=np.array([(1,2,3),(4,5,6)])\n",
        "print(a1.shape)\n",
        "a2=np\n"
      ],
      "execution_count": 0,
      "outputs": [
        {
          "output_type": "stream",
          "text": [
            "(2, 3)\n"
          ],
          "name": "stdout"
        }
      ]
    },
    {
      "cell_type": "code",
      "metadata": {
        "id": "27zheHdv39VA",
        "colab_type": "code",
        "outputId": "f7d5f212-8a87-4ff9-dd71-96763de9fa4e",
        "colab": {
          "base_uri": "https://localhost:8080/",
          "height": 101
        }
      },
      "source": [
        "#re-shape the given array\n",
        "# numpy.reshape(arrayname,reshape,order='c')\n",
        "a1=np.array([(1,2,3),(4,5,6)])\n",
        "print(a1)\n",
        "a1.reshape(3,2)"
      ],
      "execution_count": 0,
      "outputs": [
        {
          "output_type": "stream",
          "text": [
            "[[1 2 3]\n",
            " [4 5 6]]\n"
          ],
          "name": "stdout"
        },
        {
          "output_type": "execute_result",
          "data": {
            "text/plain": [
              "array([[1, 2],\n",
              "       [3, 4],\n",
              "       [5, 6]])"
            ]
          },
          "metadata": {
            "tags": []
          },
          "execution_count": 16
        }
      ]
    },
    {
      "cell_type": "code",
      "metadata": {
        "id": "-Iai7wec39Tn",
        "colab_type": "code",
        "outputId": "9c3de23e-47b2-468d-f512-923a8640f200",
        "colab": {
          "base_uri": "https://localhost:8080/",
          "height": 34
        }
      },
      "source": [
        "#append some data ---  horizontally\n",
        "# hstack (array1,array2)--- will be automatically arranged in horizontally\n",
        "a1=np.array([1,2,3])\n",
        "a2=np.array([4,5,6])\n",
        "print(np.hstack((a1,a2)))"
      ],
      "execution_count": 0,
      "outputs": [
        {
          "output_type": "stream",
          "text": [
            "[1 2 3 4 5 6]\n"
          ],
          "name": "stdout"
        }
      ]
    },
    {
      "cell_type": "code",
      "metadata": {
        "id": "P3GaFaCz39Se",
        "colab_type": "code",
        "outputId": "0f9b2810-07d4-4db8-800b-978460c24f50",
        "colab": {
          "base_uri": "https://localhost:8080/",
          "height": 50
        }
      },
      "source": [
        "#appen some data--- vertical\n",
        "#vstack(array1,array2)-- will be automatically arranged in vertical\n",
        "a1=np.array([1,2,3])\n",
        "a2=np.array([4,5,6])\n",
        "print(np.vstack((a1,a2)))"
      ],
      "execution_count": 0,
      "outputs": [
        {
          "output_type": "stream",
          "text": [
            "[[1 2 3]\n",
            " [4 5 6]]\n"
          ],
          "name": "stdout"
        }
      ]
    },
    {
      "cell_type": "code",
      "metadata": {
        "id": "gbLt_o5E67_A",
        "colab_type": "code",
        "outputId": "9673102a-72be-45e9-fb9b-483d1ff71ce5",
        "colab": {
          "base_uri": "https://localhost:8080/",
          "height": 50
        }
      },
      "source": [
        "#generate random number from NP\n",
        "a1=np.random.normal(5,0.5,10)\n",
        "print(a1)"
      ],
      "execution_count": 0,
      "outputs": [
        {
          "output_type": "stream",
          "text": [
            "[5.75430782 4.28905235 5.1004348  5.37494129 4.54883259 4.83715935\n",
            " 4.57656634 4.59673403 5.44543878 5.04452109]\n"
          ],
          "name": "stdout"
        }
      ]
    },
    {
      "cell_type": "code",
      "metadata": {
        "id": "qOuPWTiI7JHo",
        "colab_type": "code",
        "outputId": "a2b399f5-e0c6-4496-c903-36db72b84ea0",
        "colab": {
          "base_uri": "https://localhost:8080/",
          "height": 50
        }
      },
      "source": [
        "#number.zeroes() and numpy.one()\n",
        "#generate an array with all zeroes-- numpy.zeroes()\n",
        "#numpy.zeros(shape,dtype=float,order='C')\n",
        "np.zeros((2,2))"
      ],
      "execution_count": 0,
      "outputs": [
        {
          "output_type": "execute_result",
          "data": {
            "text/plain": [
              "array([[0., 0.],\n",
              "       [0., 0.]])"
            ]
          },
          "metadata": {
            "tags": []
          },
          "execution_count": 25
        }
      ]
    },
    {
      "cell_type": "code",
      "metadata": {
        "id": "Sa7i_Llp7tM7",
        "colab_type": "code",
        "outputId": "017f2199-6236-495b-b61c-5d15bec8268f",
        "colab": {
          "base_uri": "https://localhost:8080/",
          "height": 50
        }
      },
      "source": [
        "np.zeros((2,2),dtype=np.int64)"
      ],
      "execution_count": 0,
      "outputs": [
        {
          "output_type": "execute_result",
          "data": {
            "text/plain": [
              "array([[0, 0],\n",
              "       [0, 0]])"
            ]
          },
          "metadata": {
            "tags": []
          },
          "execution_count": 26
        }
      ]
    },
    {
      "cell_type": "code",
      "metadata": {
        "id": "UhonAKdJ7tK5",
        "colab_type": "code",
        "outputId": "720e2614-3702-4533-8094-981f88035792",
        "colab": {
          "base_uri": "https://localhost:8080/",
          "height": 84
        }
      },
      "source": [
        "#np.ones(shape,dtype=float,order='C')\n",
        "np.ones((4,3),dtype=np.int64)"
      ],
      "execution_count": 0,
      "outputs": [
        {
          "output_type": "execute_result",
          "data": {
            "text/plain": [
              "array([[1, 1, 1],\n",
              "       [1, 1, 1],\n",
              "       [1, 1, 1],\n",
              "       [1, 1, 1]])"
            ]
          },
          "metadata": {
            "tags": []
          },
          "execution_count": 28
        }
      ]
    },
    {
      "cell_type": "code",
      "metadata": {
        "id": "PJN_5vIn8VJ0",
        "colab_type": "code",
        "outputId": "32d8a9c7-23ae-4fb5-e728-01de89830128",
        "colab": {
          "base_uri": "https://localhost:8080/",
          "height": 84
        }
      },
      "source": [
        "A=np.matrix(np.ones((4,4),dtype=np.int64))\n",
        "print(A)"
      ],
      "execution_count": 0,
      "outputs": [
        {
          "output_type": "stream",
          "text": [
            "[[1 1 1 1]\n",
            " [1 1 1 1]\n",
            " [1 1 1 1]\n",
            " [1 1 1 1]]\n"
          ],
          "name": "stdout"
        }
      ]
    },
    {
      "cell_type": "code",
      "metadata": {
        "id": "OV01piav8VIj",
        "colab_type": "code",
        "outputId": "d735d4f5-f35e-4a33-9f20-e25ab36b959c",
        "colab": {
          "base_uri": "https://localhost:8080/",
          "height": 84
        }
      },
      "source": [
        "A=np.matrix(np.ones((4,4),dtype=np.int64))\n",
        "np.asarray(A)[2]=5\n",
        "print(A)"
      ],
      "execution_count": 0,
      "outputs": [
        {
          "output_type": "stream",
          "text": [
            "[[1 1 1 1]\n",
            " [1 1 1 1]\n",
            " [5 5 5 5]\n",
            " [1 1 1 1]]\n"
          ],
          "name": "stdout"
        }
      ]
    },
    {
      "cell_type": "code",
      "metadata": {
        "id": "LEU5UNE28VHQ",
        "colab_type": "code",
        "outputId": "6b37652c-0157-4827-f8f2-c05c1f160761",
        "colab": {
          "base_uri": "https://localhost:8080/",
          "height": 84
        }
      },
      "source": [
        "A=np.matrix(np.ones((4,4),dtype=np.int64))\n",
        "np.asarray(A)[1][3]=14\n",
        "np.asarray(A)[3][3]=16\n",
        "print(A)"
      ],
      "execution_count": 0,
      "outputs": [
        {
          "output_type": "stream",
          "text": [
            "[[ 1  1  1  1]\n",
            " [ 1  1  1 14]\n",
            " [ 1  1  1  1]\n",
            " [ 1  1  1 16]]\n"
          ],
          "name": "stdout"
        }
      ]
    },
    {
      "cell_type": "code",
      "metadata": {
        "id": "4kEVbR2YAMSo",
        "colab_type": "code",
        "outputId": "6de865ed-f7e1-44fe-ba53-61439be59777",
        "colab": {
          "base_uri": "https://localhost:8080/",
          "height": 34
        }
      },
      "source": [
        "#arrange()--particular\n",
        "#numpy.arrange(start,end,step)\n",
        "#start-value\n",
        "#end-value\n",
        "#step-gap between one value to another value\n",
        "\n",
        "import numpy as np\n",
        "np.arange(1,10)"
      ],
      "execution_count": 0,
      "outputs": [
        {
          "output_type": "execute_result",
          "data": {
            "text/plain": [
              "array([1, 2, 3, 4, 5, 6, 7, 8, 9])"
            ]
          },
          "metadata": {
            "tags": []
          },
          "execution_count": 37
        }
      ]
    },
    {
      "cell_type": "code",
      "metadata": {
        "id": "VyVRjzYqRB0f",
        "colab_type": "code",
        "outputId": "6b8be819-69f7-4656-9560-920aecd011db",
        "colab": {
          "base_uri": "https://localhost:8080/",
          "height": 34
        }
      },
      "source": [
        "np.arange(1,100,9)"
      ],
      "execution_count": 0,
      "outputs": [
        {
          "output_type": "execute_result",
          "data": {
            "text/plain": [
              "array([ 1, 10, 19, 28, 37, 46, 55, 64, 73, 82, 91])"
            ]
          },
          "metadata": {
            "tags": []
          },
          "execution_count": 38
        }
      ]
    },
    {
      "cell_type": "code",
      "metadata": {
        "id": "vW9xCI1HRHQM",
        "colab_type": "code",
        "outputId": "1d23dd38-21be-4c1b-8712-f46a1dd5985f",
        "colab": {
          "base_uri": "https://localhost:8080/",
          "height": 34
        }
      },
      "source": [
        "np.arange(2,20,2)\n",
        "np.arange(1,25,2)\n"
      ],
      "execution_count": 0,
      "outputs": [
        {
          "output_type": "execute_result",
          "data": {
            "text/plain": [
              "array([ 1,  3,  5,  7,  9, 11, 13, 15, 17, 19, 21, 23])"
            ]
          },
          "metadata": {
            "tags": []
          },
          "execution_count": 39
        }
      ]
    },
    {
      "cell_type": "code",
      "metadata": {
        "id": "zQtmW82hRHO5",
        "colab_type": "code",
        "outputId": "fddca904-453b-4a14-96c0-775064ad49e5",
        "colab": {
          "base_uri": "https://localhost:8080/",
          "height": 50
        }
      },
      "source": [
        "#indexing and slicing of numpy\n",
        "a1=np.array([(1,2,3),(4,5,6)])\n",
        "print(a1)\n"
      ],
      "execution_count": 0,
      "outputs": [
        {
          "output_type": "stream",
          "text": [
            "[[1 2 3]\n",
            " [4 5 6]]\n"
          ],
          "name": "stdout"
        }
      ]
    },
    {
      "cell_type": "code",
      "metadata": {
        "id": "KEl4XGi2R3No",
        "colab_type": "code",
        "outputId": "dcc764df-640a-4794-9b98-ce4a2e3193e1",
        "colab": {
          "base_uri": "https://localhost:8080/",
          "height": 34
        }
      },
      "source": [
        "a1=np.array([(1,2,3),(4,5,6)])\n",
        "print(\"first row:\",a1[0])"
      ],
      "execution_count": 0,
      "outputs": [
        {
          "output_type": "stream",
          "text": [
            "first row: [1 2 3]\n"
          ],
          "name": "stdout"
        }
      ]
    },
    {
      "cell_type": "code",
      "metadata": {
        "id": "8NVKCUHIR3LG",
        "colab_type": "code",
        "outputId": "278c2e10-8870-4904-c95e-f8e5b12e7069",
        "colab": {
          "base_uri": "https://localhost:8080/",
          "height": 34
        }
      },
      "source": [
        "a1=np.array([(1,2,3),(4,5,6)])\n",
        "print(\"second row:\",a1[1])"
      ],
      "execution_count": 0,
      "outputs": [
        {
          "output_type": "stream",
          "text": [
            "second row: [4 5 6]\n"
          ],
          "name": "stdout"
        }
      ]
    },
    {
      "cell_type": "code",
      "metadata": {
        "id": "qIj_WFd5SK3t",
        "colab_type": "code",
        "outputId": "108752d2-7f4b-41d7-f0bd-1600e60114ea",
        "colab": {
          "base_uri": "https://localhost:8080/",
          "height": 34
        }
      },
      "source": [
        "a1=np.array([(1,2,3),(4,5,6)])\n",
        "print(\"slicing coloumn:\",a1[:,1])"
      ],
      "execution_count": 0,
      "outputs": [
        {
          "output_type": "stream",
          "text": [
            "slicing coloumn: [2 5]\n"
          ],
          "name": "stdout"
        }
      ]
    },
    {
      "cell_type": "code",
      "metadata": {
        "id": "jFiXJXA4ST6l",
        "colab_type": "code",
        "outputId": "5212baf0-4f14-453c-c6ac-d23790a31691",
        "colab": {
          "base_uri": "https://localhost:8080/",
          "height": 34
        }
      },
      "source": [
        "a1=np.array([(1,2,3),(4,5,6)])\n",
        "print(\"slicing last column :\",a1[:,2])"
      ],
      "execution_count": 0,
      "outputs": [
        {
          "output_type": "stream",
          "text": [
            "slicing last column : [3 6]\n"
          ],
          "name": "stdout"
        }
      ]
    },
    {
      "cell_type": "code",
      "metadata": {
        "id": "X4E4eSSYST5H",
        "colab_type": "code",
        "outputId": "7e3e1c32-f9fa-4210-8b39-3e8b693a2599",
        "colab": {
          "base_uri": "https://localhost:8080/",
          "height": 34
        }
      },
      "source": [
        "a1=np.array([(1,2,3),(4,5,6)])\n",
        "print(\" row and column:\",a1[1,:2])"
      ],
      "execution_count": 0,
      "outputs": [
        {
          "output_type": "stream",
          "text": [
            " row and column: [4 5]\n"
          ],
          "name": "stdout"
        }
      ]
    },
    {
      "cell_type": "code",
      "metadata": {
        "id": "bwNN4Od9ST3y",
        "colab_type": "code",
        "outputId": "5c68e6b2-c2be-4ede-8ae9-5c66f6bf29e0",
        "colab": {
          "base_uri": "https://localhost:8080/",
          "height": 34
        }
      },
      "source": [
        "a1=np.array([(1,2,3),(4,5,6)])\n",
        "print(\"first row:\",a1[1,:1])"
      ],
      "execution_count": 0,
      "outputs": [
        {
          "output_type": "stream",
          "text": [
            "first row: [4]\n"
          ],
          "name": "stdout"
        }
      ]
    },
    {
      "cell_type": "code",
      "metadata": {
        "id": "SoL7PMUETOa1",
        "colab_type": "code",
        "outputId": "b34512ba-74ae-4be5-dad2-b225a8f1c738",
        "colab": {
          "base_uri": "https://localhost:8080/",
          "height": 34
        }
      },
      "source": [
        "a1=np.array([(1,2,3),(4,5,6)])\n",
        "print(\"first row:\",a1[1][1])"
      ],
      "execution_count": 0,
      "outputs": [
        {
          "output_type": "stream",
          "text": [
            "first row: 5\n"
          ],
          "name": "stdout"
        }
      ]
    },
    {
      "cell_type": "code",
      "metadata": {
        "id": "3ok26JXQU66H",
        "colab_type": "code",
        "outputId": "f7dd228f-628a-4a36-db94-146880ec9439",
        "colab": {
          "base_uri": "https://localhost:8080/",
          "height": 50
        }
      },
      "source": [
        "a1=np.random.normal(5,1,10)\n",
        "print(a1)"
      ],
      "execution_count": 0,
      "outputs": [
        {
          "output_type": "stream",
          "text": [
            "[4.67539374 5.56552424 3.61088327 6.05532476 6.21546607 5.29175991\n",
            " 5.0955593  5.22465369 3.7198674  4.8365804 ]\n"
          ],
          "name": "stdout"
        }
      ]
    },
    {
      "cell_type": "code",
      "metadata": {
        "id": "CBxDa9BFU64g",
        "colab_type": "code",
        "outputId": "7434a463-a78d-4921-cfe1-28a2ffea1ff4",
        "colab": {
          "base_uri": "https://localhost:8080/",
          "height": 118
        }
      },
      "source": [
        "#some math operation in given random numbers\n",
        "#min -- returns the least number\n",
        "#max-- returns the large number\n",
        "#mean--- mean\n",
        "#median---median\n",
        "#GD -- gaussian distribution\n",
        "a1=np.random.normal(5,1,10)\n",
        "print(a1)\n",
        "print(\"min value= \",np.min(a1))\n",
        "print(\"max value= \",np.max(a1))\n",
        "print(\"mean value= \",np.mean(a1))\n",
        "print(\"median value= \",np.median(a1))\n"
      ],
      "execution_count": 0,
      "outputs": [
        {
          "output_type": "stream",
          "text": [
            "[4.66446951 3.11518563 4.36727912 5.14322714 3.63293804 6.25974457\n",
            " 5.89160354 5.76205622 5.50072232 4.63691853]\n",
            "min value=  3.1151856342300093\n",
            "max value=  6.259744566424472\n",
            "mean value=  4.897414462256462\n",
            "median value=  4.903848324349939\n"
          ],
          "name": "stdout"
        }
      ]
    },
    {
      "cell_type": "code",
      "metadata": {
        "id": "1zdLvQ60XTxR",
        "colab_type": "code",
        "outputId": "a28b1fd5-6026-4cd7-febc-88477cb4910e",
        "colab": {
          "base_uri": "https://localhost:8080/",
          "height": 34
        }
      },
      "source": [
        "#multiply  of 1D arrays\n",
        "#numpy.dot(x,y)---\n",
        "\n",
        "c1=np.array([1,2])\n",
        "c2=np.array([4,5])\n",
        "np.dot(c1,c2)"
      ],
      "execution_count": 0,
      "outputs": [
        {
          "output_type": "execute_result",
          "data": {
            "text/plain": [
              "14"
            ]
          },
          "metadata": {
            "tags": []
          },
          "execution_count": 52
        }
      ]
    },
    {
      "cell_type": "code",
      "metadata": {
        "id": "UxRMtljDXpXa",
        "colab_type": "code",
        "outputId": "4a56742b-2260-4d1a-e4a0-83401597dd00",
        "colab": {
          "base_uri": "https://localhost:8080/",
          "height": 50
        }
      },
      "source": [
        "c1=np.array([(1,2),(3,4)])\n",
        "c2=np.array([(3,4),(1,2)])\n",
        "np.dot(c1,c2)"
      ],
      "execution_count": 0,
      "outputs": [
        {
          "output_type": "execute_result",
          "data": {
            "text/plain": [
              "array([[ 5,  8],\n",
              "       [13, 20]])"
            ]
          },
          "metadata": {
            "tags": []
          },
          "execution_count": 53
        }
      ]
    },
    {
      "cell_type": "code",
      "metadata": {
        "id": "jbZ41xWBXpVk",
        "colab_type": "code",
        "outputId": "a2033c0b-2542-4e66-9df1-69764733ab43",
        "colab": {
          "base_uri": "https://localhost:8080/",
          "height": 50
        }
      },
      "source": [
        "b1=np.array([(1,5),(6,9)])\n",
        "b2=np.array([(1,3),(1,6)])\n",
        "np.matmul(b1,b2)"
      ],
      "execution_count": 0,
      "outputs": [
        {
          "output_type": "execute_result",
          "data": {
            "text/plain": [
              "array([[ 6, 33],\n",
              "       [15, 72]])"
            ]
          },
          "metadata": {
            "tags": []
          },
          "execution_count": 54
        }
      ]
    },
    {
      "cell_type": "markdown",
      "metadata": {
        "id": "8FB1bMP5jK_i",
        "colab_type": "text"
      },
      "source": [
        "# Pandas Basics\n",
        " Python is one of the popular programming language for data analysis<br>    \n",
        "Python is offering the Lib called Pandas used for importing and analysing pretty much faster and easier also        \n",
        "Pandas DataFrames        \n",
        "    \n",
        "    Data Analysis with Python"
      ]
    },
    {
      "cell_type": "code",
      "metadata": {
        "id": "-rls03ElZRkk",
        "colab_type": "code",
        "outputId": "be487b92-b93a-49fe-cff5-11845ce33f89",
        "colab": {
          "base_uri": "https://localhost:8080/",
          "height": 134
        }
      },
      "source": [
        "import pandas as pd\n",
        "dict={\"Name\":[\"Anil\",\"Akhil\",\"Dinesh\",\"Harsha\",\"Ajay\",\"Kranth\"],\"EmailID\":[\"anil@gmail.com\",\"akhil@gmail.com\",\"dinesh@gmail.com\",\"harsha@gmail.com\",\"ajay@gmail.com\",\"kranth@gmail.com\"],\"MobileNumber\":[999,888,777,888,777,999],\"Address\":[\"Hyd\",\"Hyd\",\"Hyd\",\"Hyd\",\"Hyd\",\"Hyd\"],}\n",
        "b=pd.DataFrame(dict)\n",
        "print(b)\n",
        "    "
      ],
      "execution_count": 0,
      "outputs": [
        {
          "output_type": "stream",
          "text": [
            "     Name           EmailID  MobileNumber Address\n",
            "0    Anil    anil@gmail.com           999     Hyd\n",
            "1   Akhil   akhil@gmail.com           888     Hyd\n",
            "2  Dinesh  dinesh@gmail.com           777     Hyd\n",
            "3  Harsha  harsha@gmail.com           888     Hyd\n",
            "4    Ajay    ajay@gmail.com           777     Hyd\n",
            "5  Kranth  kranth@gmail.com           999     Hyd\n"
          ],
          "name": "stdout"
        }
      ]
    },
    {
      "cell_type": "code",
      "metadata": {
        "id": "kRNJChyCmQ4e",
        "colab_type": "code",
        "colab": {}
      },
      "source": [
        ""
      ],
      "execution_count": 0,
      "outputs": []
    },
    {
      "cell_type": "code",
      "metadata": {
        "id": "5MM7BE98mQ2t",
        "colab_type": "code",
        "colab": {}
      },
      "source": [
        ""
      ],
      "execution_count": 0,
      "outputs": []
    }
  ]
}